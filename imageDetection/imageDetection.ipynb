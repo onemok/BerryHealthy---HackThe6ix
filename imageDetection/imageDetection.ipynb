{
 "cells": [
  {
   "cell_type": "code",
   "execution_count": 14,
   "metadata": {},
   "outputs": [],
   "source": [
    "\n",
    "import numpy as np # linear algebra\n",
    "import pandas as pd # data processing, CSV file I/O (e.g. pd.read_csv)\n",
    "\n",
    "import tensorflow as tf\n",
    "from tensorflow import keras\n",
    "from tensorflow.keras import layers\n",
    "from tensorflow.keras.preprocessing.image import ImageDataGenerator\n",
    "\n",
    "import matplotlib.pyplot as plt\n",
    "import plotly.graph_objects as go\n",
    "from plotly.subplots import make_subplots"
   ]
  },
  {
   "cell_type": "code",
   "execution_count": 5,
   "metadata": {},
   "outputs": [
    {
     "ename": "FileNotFoundError",
     "evalue": "[Errno 2] No such file or directory: '/dataset/food41/meta/meta/classes.txt'",
     "output_type": "error",
     "traceback": [
      "\u001b[1;31m---------------------------------------------------------------------------\u001b[0m",
      "\u001b[1;31mFileNotFoundError\u001b[0m                         Traceback (most recent call last)",
      "\u001b[1;32mc:\\Users\\aryaa\\OneDrive\\Desktop\\Coding\\BerryHealthy-HackThe6ix\\imageDetection\\imageDetection.ipynb Cell 2\u001b[0m in \u001b[0;36m<cell line: 4>\u001b[1;34m()\u001b[0m\n\u001b[0;32m      <a href='vscode-notebook-cell:/c%3A/Users/aryaa/OneDrive/Desktop/Coding/BerryHealthy-HackThe6ix/imageDetection/imageDetection.ipynb#W2sZmlsZQ%3D%3D?line=0'>1</a>\u001b[0m METADATA \u001b[39m=\u001b[39m \u001b[39m\"\u001b[39m\u001b[39m/dataset/food41/meta/meta/\u001b[39m\u001b[39m\"\u001b[39m\n\u001b[0;32m      <a href='vscode-notebook-cell:/c%3A/Users/aryaa/OneDrive/Desktop/Coding/BerryHealthy-HackThe6ix/imageDetection/imageDetection.ipynb#W2sZmlsZQ%3D%3D?line=1'>2</a>\u001b[0m IMGS \u001b[39m=\u001b[39m \u001b[39m\"\u001b[39m\u001b[39m/dataset/food41/images/\u001b[39m\u001b[39m\"\u001b[39m\n\u001b[1;32m----> <a href='vscode-notebook-cell:/c%3A/Users/aryaa/OneDrive/Desktop/Coding/BerryHealthy-HackThe6ix/imageDetection/imageDetection.ipynb#W2sZmlsZQ%3D%3D?line=3'>4</a>\u001b[0m classes \u001b[39m=\u001b[39m pd\u001b[39m.\u001b[39;49mread_csv(METADATA\u001b[39m+\u001b[39;49m\u001b[39m'\u001b[39;49m\u001b[39mclasses.txt\u001b[39;49m\u001b[39m'\u001b[39;49m, header\u001b[39m=\u001b[39;49m\u001b[39mNone\u001b[39;49;00m) \u001b[39m# classes.txt contains the class names\u001b[39;00m\n\u001b[0;32m      <a href='vscode-notebook-cell:/c%3A/Users/aryaa/OneDrive/Desktop/Coding/BerryHealthy-HackThe6ix/imageDetection/imageDetection.ipynb#W2sZmlsZQ%3D%3D?line=4'>5</a>\u001b[0m labels \u001b[39m=\u001b[39m pd\u001b[39m.\u001b[39mread_csv(METADATA\u001b[39m+\u001b[39m\u001b[39m'\u001b[39m\u001b[39mlabels.txt\u001b[39m\u001b[39m'\u001b[39m, header\u001b[39m=\u001b[39m\u001b[39mNone\u001b[39;00m) \u001b[39m# labels.txt contains the image names\u001b[39;00m\n\u001b[0;32m      <a href='vscode-notebook-cell:/c%3A/Users/aryaa/OneDrive/Desktop/Coding/BerryHealthy-HackThe6ix/imageDetection/imageDetection.ipynb#W2sZmlsZQ%3D%3D?line=6'>7</a>\u001b[0m toNominal \u001b[39m=\u001b[39m \u001b[39mdict\u001b[39m(\u001b[39mzip\u001b[39m(classes[\u001b[39m0\u001b[39m]\u001b[39m.\u001b[39mvalues, \u001b[39mrange\u001b[39m(classes\u001b[39m.\u001b[39mshape[\u001b[39m0\u001b[39m]))) \u001b[39m# class to norminal\u001b[39;00m\n",
      "File \u001b[1;32mc:\\Users\\aryaa\\AppData\\Local\\Programs\\Python\\Python310\\lib\\site-packages\\pandas\\util\\_decorators.py:311\u001b[0m, in \u001b[0;36mdeprecate_nonkeyword_arguments.<locals>.decorate.<locals>.wrapper\u001b[1;34m(*args, **kwargs)\u001b[0m\n\u001b[0;32m    305\u001b[0m \u001b[39mif\u001b[39;00m \u001b[39mlen\u001b[39m(args) \u001b[39m>\u001b[39m num_allow_args:\n\u001b[0;32m    306\u001b[0m     warnings\u001b[39m.\u001b[39mwarn(\n\u001b[0;32m    307\u001b[0m         msg\u001b[39m.\u001b[39mformat(arguments\u001b[39m=\u001b[39marguments),\n\u001b[0;32m    308\u001b[0m         \u001b[39mFutureWarning\u001b[39;00m,\n\u001b[0;32m    309\u001b[0m         stacklevel\u001b[39m=\u001b[39mstacklevel,\n\u001b[0;32m    310\u001b[0m     )\n\u001b[1;32m--> 311\u001b[0m \u001b[39mreturn\u001b[39;00m func(\u001b[39m*\u001b[39margs, \u001b[39m*\u001b[39m\u001b[39m*\u001b[39mkwargs)\n",
      "File \u001b[1;32mc:\\Users\\aryaa\\AppData\\Local\\Programs\\Python\\Python310\\lib\\site-packages\\pandas\\io\\parsers\\readers.py:680\u001b[0m, in \u001b[0;36mread_csv\u001b[1;34m(filepath_or_buffer, sep, delimiter, header, names, index_col, usecols, squeeze, prefix, mangle_dupe_cols, dtype, engine, converters, true_values, false_values, skipinitialspace, skiprows, skipfooter, nrows, na_values, keep_default_na, na_filter, verbose, skip_blank_lines, parse_dates, infer_datetime_format, keep_date_col, date_parser, dayfirst, cache_dates, iterator, chunksize, compression, thousands, decimal, lineterminator, quotechar, quoting, doublequote, escapechar, comment, encoding, encoding_errors, dialect, error_bad_lines, warn_bad_lines, on_bad_lines, delim_whitespace, low_memory, memory_map, float_precision, storage_options)\u001b[0m\n\u001b[0;32m    665\u001b[0m kwds_defaults \u001b[39m=\u001b[39m _refine_defaults_read(\n\u001b[0;32m    666\u001b[0m     dialect,\n\u001b[0;32m    667\u001b[0m     delimiter,\n\u001b[1;32m   (...)\u001b[0m\n\u001b[0;32m    676\u001b[0m     defaults\u001b[39m=\u001b[39m{\u001b[39m\"\u001b[39m\u001b[39mdelimiter\u001b[39m\u001b[39m\"\u001b[39m: \u001b[39m\"\u001b[39m\u001b[39m,\u001b[39m\u001b[39m\"\u001b[39m},\n\u001b[0;32m    677\u001b[0m )\n\u001b[0;32m    678\u001b[0m kwds\u001b[39m.\u001b[39mupdate(kwds_defaults)\n\u001b[1;32m--> 680\u001b[0m \u001b[39mreturn\u001b[39;00m _read(filepath_or_buffer, kwds)\n",
      "File \u001b[1;32mc:\\Users\\aryaa\\AppData\\Local\\Programs\\Python\\Python310\\lib\\site-packages\\pandas\\io\\parsers\\readers.py:575\u001b[0m, in \u001b[0;36m_read\u001b[1;34m(filepath_or_buffer, kwds)\u001b[0m\n\u001b[0;32m    572\u001b[0m _validate_names(kwds\u001b[39m.\u001b[39mget(\u001b[39m\"\u001b[39m\u001b[39mnames\u001b[39m\u001b[39m\"\u001b[39m, \u001b[39mNone\u001b[39;00m))\n\u001b[0;32m    574\u001b[0m \u001b[39m# Create the parser.\u001b[39;00m\n\u001b[1;32m--> 575\u001b[0m parser \u001b[39m=\u001b[39m TextFileReader(filepath_or_buffer, \u001b[39m*\u001b[39m\u001b[39m*\u001b[39mkwds)\n\u001b[0;32m    577\u001b[0m \u001b[39mif\u001b[39;00m chunksize \u001b[39mor\u001b[39;00m iterator:\n\u001b[0;32m    578\u001b[0m     \u001b[39mreturn\u001b[39;00m parser\n",
      "File \u001b[1;32mc:\\Users\\aryaa\\AppData\\Local\\Programs\\Python\\Python310\\lib\\site-packages\\pandas\\io\\parsers\\readers.py:934\u001b[0m, in \u001b[0;36mTextFileReader.__init__\u001b[1;34m(self, f, engine, **kwds)\u001b[0m\n\u001b[0;32m    931\u001b[0m     \u001b[39mself\u001b[39m\u001b[39m.\u001b[39moptions[\u001b[39m\"\u001b[39m\u001b[39mhas_index_names\u001b[39m\u001b[39m\"\u001b[39m] \u001b[39m=\u001b[39m kwds[\u001b[39m\"\u001b[39m\u001b[39mhas_index_names\u001b[39m\u001b[39m\"\u001b[39m]\n\u001b[0;32m    933\u001b[0m \u001b[39mself\u001b[39m\u001b[39m.\u001b[39mhandles: IOHandles \u001b[39m|\u001b[39m \u001b[39mNone\u001b[39;00m \u001b[39m=\u001b[39m \u001b[39mNone\u001b[39;00m\n\u001b[1;32m--> 934\u001b[0m \u001b[39mself\u001b[39m\u001b[39m.\u001b[39m_engine \u001b[39m=\u001b[39m \u001b[39mself\u001b[39;49m\u001b[39m.\u001b[39;49m_make_engine(f, \u001b[39mself\u001b[39;49m\u001b[39m.\u001b[39;49mengine)\n",
      "File \u001b[1;32mc:\\Users\\aryaa\\AppData\\Local\\Programs\\Python\\Python310\\lib\\site-packages\\pandas\\io\\parsers\\readers.py:1218\u001b[0m, in \u001b[0;36mTextFileReader._make_engine\u001b[1;34m(self, f, engine)\u001b[0m\n\u001b[0;32m   1214\u001b[0m     mode \u001b[39m=\u001b[39m \u001b[39m\"\u001b[39m\u001b[39mrb\u001b[39m\u001b[39m\"\u001b[39m\n\u001b[0;32m   1215\u001b[0m \u001b[39m# error: No overload variant of \"get_handle\" matches argument types\u001b[39;00m\n\u001b[0;32m   1216\u001b[0m \u001b[39m# \"Union[str, PathLike[str], ReadCsvBuffer[bytes], ReadCsvBuffer[str]]\"\u001b[39;00m\n\u001b[0;32m   1217\u001b[0m \u001b[39m# , \"str\", \"bool\", \"Any\", \"Any\", \"Any\", \"Any\", \"Any\"\u001b[39;00m\n\u001b[1;32m-> 1218\u001b[0m \u001b[39mself\u001b[39m\u001b[39m.\u001b[39mhandles \u001b[39m=\u001b[39m get_handle(  \u001b[39m# type: ignore[call-overload]\u001b[39;49;00m\n\u001b[0;32m   1219\u001b[0m     f,\n\u001b[0;32m   1220\u001b[0m     mode,\n\u001b[0;32m   1221\u001b[0m     encoding\u001b[39m=\u001b[39;49m\u001b[39mself\u001b[39;49m\u001b[39m.\u001b[39;49moptions\u001b[39m.\u001b[39;49mget(\u001b[39m\"\u001b[39;49m\u001b[39mencoding\u001b[39;49m\u001b[39m\"\u001b[39;49m, \u001b[39mNone\u001b[39;49;00m),\n\u001b[0;32m   1222\u001b[0m     compression\u001b[39m=\u001b[39;49m\u001b[39mself\u001b[39;49m\u001b[39m.\u001b[39;49moptions\u001b[39m.\u001b[39;49mget(\u001b[39m\"\u001b[39;49m\u001b[39mcompression\u001b[39;49m\u001b[39m\"\u001b[39;49m, \u001b[39mNone\u001b[39;49;00m),\n\u001b[0;32m   1223\u001b[0m     memory_map\u001b[39m=\u001b[39;49m\u001b[39mself\u001b[39;49m\u001b[39m.\u001b[39;49moptions\u001b[39m.\u001b[39;49mget(\u001b[39m\"\u001b[39;49m\u001b[39mmemory_map\u001b[39;49m\u001b[39m\"\u001b[39;49m, \u001b[39mFalse\u001b[39;49;00m),\n\u001b[0;32m   1224\u001b[0m     is_text\u001b[39m=\u001b[39;49mis_text,\n\u001b[0;32m   1225\u001b[0m     errors\u001b[39m=\u001b[39;49m\u001b[39mself\u001b[39;49m\u001b[39m.\u001b[39;49moptions\u001b[39m.\u001b[39;49mget(\u001b[39m\"\u001b[39;49m\u001b[39mencoding_errors\u001b[39;49m\u001b[39m\"\u001b[39;49m, \u001b[39m\"\u001b[39;49m\u001b[39mstrict\u001b[39;49m\u001b[39m\"\u001b[39;49m),\n\u001b[0;32m   1226\u001b[0m     storage_options\u001b[39m=\u001b[39;49m\u001b[39mself\u001b[39;49m\u001b[39m.\u001b[39;49moptions\u001b[39m.\u001b[39;49mget(\u001b[39m\"\u001b[39;49m\u001b[39mstorage_options\u001b[39;49m\u001b[39m\"\u001b[39;49m, \u001b[39mNone\u001b[39;49;00m),\n\u001b[0;32m   1227\u001b[0m )\n\u001b[0;32m   1228\u001b[0m \u001b[39massert\u001b[39;00m \u001b[39mself\u001b[39m\u001b[39m.\u001b[39mhandles \u001b[39mis\u001b[39;00m \u001b[39mnot\u001b[39;00m \u001b[39mNone\u001b[39;00m\n\u001b[0;32m   1229\u001b[0m f \u001b[39m=\u001b[39m \u001b[39mself\u001b[39m\u001b[39m.\u001b[39mhandles\u001b[39m.\u001b[39mhandle\n",
      "File \u001b[1;32mc:\\Users\\aryaa\\AppData\\Local\\Programs\\Python\\Python310\\lib\\site-packages\\pandas\\io\\common.py:786\u001b[0m, in \u001b[0;36mget_handle\u001b[1;34m(path_or_buf, mode, encoding, compression, memory_map, is_text, errors, storage_options)\u001b[0m\n\u001b[0;32m    781\u001b[0m \u001b[39melif\u001b[39;00m \u001b[39misinstance\u001b[39m(handle, \u001b[39mstr\u001b[39m):\n\u001b[0;32m    782\u001b[0m     \u001b[39m# Check whether the filename is to be opened in binary mode.\u001b[39;00m\n\u001b[0;32m    783\u001b[0m     \u001b[39m# Binary mode does not support 'encoding' and 'newline'.\u001b[39;00m\n\u001b[0;32m    784\u001b[0m     \u001b[39mif\u001b[39;00m ioargs\u001b[39m.\u001b[39mencoding \u001b[39mand\u001b[39;00m \u001b[39m\"\u001b[39m\u001b[39mb\u001b[39m\u001b[39m\"\u001b[39m \u001b[39mnot\u001b[39;00m \u001b[39min\u001b[39;00m ioargs\u001b[39m.\u001b[39mmode:\n\u001b[0;32m    785\u001b[0m         \u001b[39m# Encoding\u001b[39;00m\n\u001b[1;32m--> 786\u001b[0m         handle \u001b[39m=\u001b[39m \u001b[39mopen\u001b[39;49m(\n\u001b[0;32m    787\u001b[0m             handle,\n\u001b[0;32m    788\u001b[0m             ioargs\u001b[39m.\u001b[39;49mmode,\n\u001b[0;32m    789\u001b[0m             encoding\u001b[39m=\u001b[39;49mioargs\u001b[39m.\u001b[39;49mencoding,\n\u001b[0;32m    790\u001b[0m             errors\u001b[39m=\u001b[39;49merrors,\n\u001b[0;32m    791\u001b[0m             newline\u001b[39m=\u001b[39;49m\u001b[39m\"\u001b[39;49m\u001b[39m\"\u001b[39;49m,\n\u001b[0;32m    792\u001b[0m         )\n\u001b[0;32m    793\u001b[0m     \u001b[39melse\u001b[39;00m:\n\u001b[0;32m    794\u001b[0m         \u001b[39m# Binary mode\u001b[39;00m\n\u001b[0;32m    795\u001b[0m         handle \u001b[39m=\u001b[39m \u001b[39mopen\u001b[39m(handle, ioargs\u001b[39m.\u001b[39mmode)\n",
      "\u001b[1;31mFileNotFoundError\u001b[0m: [Errno 2] No such file or directory: '/dataset/food41/meta/meta/classes.txt'"
     ]
    }
   ],
   "source": [
    "METADATA = \"/dataset/meta/meta/\"\n",
    "IMGS = \"/dataset/images/\"\n",
    "\n",
    "classes = pd.read_csv(METADATA+'classes.txt', header=None) # classes.txt contains the class names\n",
    "labels = pd.read_csv(METADATA+'labels.txt', header=None) # labels.txt contains the image names\n",
    "\n",
    "toNominal = dict(zip(classes[0].values, range(classes.shape[0]))) # class to norminal\n",
    "\n",
    "# setup for model and data splits\n",
    "\n",
    "# training data\n",
    "train_df = pd.read_csv(METADATA+'train.txt', names=['txt'], header=None) \n",
    "train_df['img'] = train_df['txt'].apply(lambda x : x+'.jpg')\n",
    "train_df['label'] = train_df['txt'].apply(lambda x: toNominal[x.split('/')[0]])\n",
    "train_df.drop(['txt'], axis=1, inplace=True)\n",
    "train_df = train_df.sample(frac=1) \n",
    "\n",
    "# validation data\n",
    "valid_df = pd.read_csv(METADATA+'test.txt', names=['txt'], header=None) # \n",
    "valid_df['img'] = valid_df['txt'].apply(lambda x: x+'.jpg') \n",
    "valid_df['label'] = valid_df['txt'].apply(lambda x: toNominal[x.split('/')[0]])\n",
    "valid_df.drop(['txt'], axis=1, inplace=True)    \n",
    "valid_df = valid_df.sample(frac=1)\n",
    "         \n",
    "# shape of the data\n",
    "print(f'train_data: {train_df.shape}') # (75750, 2)\n",
    "print(f'valid_data: {valid_df.shape}') # (25250, 2)"
   ]
  },
  {
   "cell_type": "code",
   "execution_count": 6,
   "metadata": {},
   "outputs": [],
   "source": [
    "# augmentation of the data to create a uniform environment of data for the model\n",
    "\n",
    "train_dg = ImageDataGenerator(\n",
    "        rescale=1./255,\n",
    "        rotation_range=30,\n",
    "        shear_range=0.3,\n",
    "        horizontal_flip=True,\n",
    "        width_shift_range=0.1,\n",
    "        height_shift_range=0.1,\n",
    "        zoom_range=0.25,\n",
    ")\n",
    "\n",
    "valid_dg = ImageDataGenerator(\n",
    "        rescale=1./255,\n",
    ")"
   ]
  },
  {
   "cell_type": "code",
   "execution_count": 9,
   "metadata": {},
   "outputs": [
    {
     "ename": "NameError",
     "evalue": "name 'train_df' is not defined",
     "output_type": "error",
     "traceback": [
      "\u001b[1;31m---------------------------------------------------------------------------\u001b[0m",
      "\u001b[1;31mNameError\u001b[0m                                 Traceback (most recent call last)",
      "\u001b[1;32mc:\\Users\\aryaa\\OneDrive\\Desktop\\Coding\\BerryHealthy-HackThe6ix\\imageDetection\\imageDetection.ipynb Cell 4\u001b[0m in \u001b[0;36m<cell line: 5>\u001b[1;34m()\u001b[0m\n\u001b[0;32m      <a href='vscode-notebook-cell:/c%3A/Users/aryaa/OneDrive/Desktop/Coding/BerryHealthy-HackThe6ix/imageDetection/imageDetection.ipynb#W4sZmlsZQ%3D%3D?line=1'>2</a>\u001b[0m BATCH_SIZE \u001b[39m=\u001b[39m \u001b[39m64\u001b[39m\n\u001b[0;32m      <a href='vscode-notebook-cell:/c%3A/Users/aryaa/OneDrive/Desktop/Coding/BerryHealthy-HackThe6ix/imageDetection/imageDetection.ipynb#W4sZmlsZQ%3D%3D?line=2'>3</a>\u001b[0m IMAGE_SIZE \u001b[39m=\u001b[39m \u001b[39m224\u001b[39m\n\u001b[0;32m      <a href='vscode-notebook-cell:/c%3A/Users/aryaa/OneDrive/Desktop/Coding/BerryHealthy-HackThe6ix/imageDetection/imageDetection.ipynb#W4sZmlsZQ%3D%3D?line=4'>5</a>\u001b[0m train_data \u001b[39m=\u001b[39m train_dg\u001b[39m.\u001b[39mflow_from_dataframe(\n\u001b[1;32m----> <a href='vscode-notebook-cell:/c%3A/Users/aryaa/OneDrive/Desktop/Coding/BerryHealthy-HackThe6ix/imageDetection/imageDetection.ipynb#W4sZmlsZQ%3D%3D?line=5'>6</a>\u001b[0m     dataframe\u001b[39m=\u001b[39mtrain_df,\n\u001b[0;32m      <a href='vscode-notebook-cell:/c%3A/Users/aryaa/OneDrive/Desktop/Coding/BerryHealthy-HackThe6ix/imageDetection/imageDetection.ipynb#W4sZmlsZQ%3D%3D?line=6'>7</a>\u001b[0m     directory\u001b[39m=\u001b[39mIMGS,\n\u001b[0;32m      <a href='vscode-notebook-cell:/c%3A/Users/aryaa/OneDrive/Desktop/Coding/BerryHealthy-HackThe6ix/imageDetection/imageDetection.ipynb#W4sZmlsZQ%3D%3D?line=7'>8</a>\u001b[0m     x_col\u001b[39m=\u001b[39m\u001b[39m\"\u001b[39m\u001b[39mimg\u001b[39m\u001b[39m\"\u001b[39m,\n\u001b[0;32m      <a href='vscode-notebook-cell:/c%3A/Users/aryaa/OneDrive/Desktop/Coding/BerryHealthy-HackThe6ix/imageDetection/imageDetection.ipynb#W4sZmlsZQ%3D%3D?line=8'>9</a>\u001b[0m     y_col\u001b[39m=\u001b[39m\u001b[39m\"\u001b[39m\u001b[39mlabel\u001b[39m\u001b[39m\"\u001b[39m,\n\u001b[0;32m     <a href='vscode-notebook-cell:/c%3A/Users/aryaa/OneDrive/Desktop/Coding/BerryHealthy-HackThe6ix/imageDetection/imageDetection.ipynb#W4sZmlsZQ%3D%3D?line=9'>10</a>\u001b[0m     target_size\u001b[39m=\u001b[39m(IMAGE_SIZE, IMAGE_SIZE),\n\u001b[0;32m     <a href='vscode-notebook-cell:/c%3A/Users/aryaa/OneDrive/Desktop/Coding/BerryHealthy-HackThe6ix/imageDetection/imageDetection.ipynb#W4sZmlsZQ%3D%3D?line=10'>11</a>\u001b[0m     batch_size\u001b[39m=\u001b[39mBATCH_SIZE,\n\u001b[0;32m     <a href='vscode-notebook-cell:/c%3A/Users/aryaa/OneDrive/Desktop/Coding/BerryHealthy-HackThe6ix/imageDetection/imageDetection.ipynb#W4sZmlsZQ%3D%3D?line=11'>12</a>\u001b[0m     class_mode\u001b[39m=\u001b[39m\u001b[39m\"\u001b[39m\u001b[39mraw\u001b[39m\u001b[39m\"\u001b[39m,\n\u001b[0;32m     <a href='vscode-notebook-cell:/c%3A/Users/aryaa/OneDrive/Desktop/Coding/BerryHealthy-HackThe6ix/imageDetection/imageDetection.ipynb#W4sZmlsZQ%3D%3D?line=12'>13</a>\u001b[0m     shuffle\u001b[39m=\u001b[39m\u001b[39mTrue\u001b[39;00m,\n\u001b[0;32m     <a href='vscode-notebook-cell:/c%3A/Users/aryaa/OneDrive/Desktop/Coding/BerryHealthy-HackThe6ix/imageDetection/imageDetection.ipynb#W4sZmlsZQ%3D%3D?line=13'>14</a>\u001b[0m )\n\u001b[0;32m     <a href='vscode-notebook-cell:/c%3A/Users/aryaa/OneDrive/Desktop/Coding/BerryHealthy-HackThe6ix/imageDetection/imageDetection.ipynb#W4sZmlsZQ%3D%3D?line=14'>15</a>\u001b[0m valid_data \u001b[39m=\u001b[39m valid_dg\u001b[39m.\u001b[39mflow_from_dataframe(\n\u001b[0;32m     <a href='vscode-notebook-cell:/c%3A/Users/aryaa/OneDrive/Desktop/Coding/BerryHealthy-HackThe6ix/imageDetection/imageDetection.ipynb#W4sZmlsZQ%3D%3D?line=15'>16</a>\u001b[0m     dataframe\u001b[39m=\u001b[39mvalid_df,\n\u001b[0;32m     <a href='vscode-notebook-cell:/c%3A/Users/aryaa/OneDrive/Desktop/Coding/BerryHealthy-HackThe6ix/imageDetection/imageDetection.ipynb#W4sZmlsZQ%3D%3D?line=16'>17</a>\u001b[0m     directory\u001b[39m=\u001b[39mIMGS,\n\u001b[1;32m   (...)\u001b[0m\n\u001b[0;32m     <a href='vscode-notebook-cell:/c%3A/Users/aryaa/OneDrive/Desktop/Coding/BerryHealthy-HackThe6ix/imageDetection/imageDetection.ipynb#W4sZmlsZQ%3D%3D?line=22'>23</a>\u001b[0m     shuffle\u001b[39m=\u001b[39m\u001b[39mTrue\u001b[39;00m,\n\u001b[0;32m     <a href='vscode-notebook-cell:/c%3A/Users/aryaa/OneDrive/Desktop/Coding/BerryHealthy-HackThe6ix/imageDetection/imageDetection.ipynb#W4sZmlsZQ%3D%3D?line=23'>24</a>\u001b[0m )\n",
      "\u001b[1;31mNameError\u001b[0m: name 'train_df' is not defined"
     ]
    }
   ],
   "source": [
    "# setup dataset\n",
    "BATSIZE = 64\n",
    "IMSIZE = 224\n",
    "\n",
    "train_data = train_dg.flow_from_dataframe(\n",
    "    dataframe=train_df, # dataframe with image names and labels\n",
    "    directory=IMGS, \n",
    "    x_col=\"img\",\n",
    "    y_col=\"label\", \n",
    "    target_size=(IMSIZE, IMSIZE), # size of the images\n",
    "    BATSIZE=BATSIZE,    \n",
    "    class_mode=\"raw\",\n",
    "    shuffle=True, # shuffels the images and labes in the batch\n",
    ")\n",
    "valid_data = valid_dg.flow_from_dataframe(\n",
    "    dataframe=valid_df,\n",
    "    directory=IMGS,\n",
    "    x_col=\"img\",\n",
    "    y_col=\"label\",\n",
    "    target_size=(IMSIZE, IMSIZE),\n",
    "    BATSIZE=BATSIZE,\n",
    "    class_mode=\"raw\",\n",
    "    shuffle=True,\n",
    ")"
   ]
  },
  {
   "cell_type": "code",
   "execution_count": 10,
   "metadata": {},
   "outputs": [
    {
     "ename": "NameError",
     "evalue": "name 'train_data' is not defined",
     "output_type": "error",
     "traceback": [
      "\u001b[1;31m---------------------------------------------------------------------------\u001b[0m",
      "\u001b[1;31mNameError\u001b[0m                                 Traceback (most recent call last)",
      "\u001b[1;32mc:\\Users\\aryaa\\OneDrive\\Desktop\\Coding\\BerryHealthy-HackThe6ix\\imageDetection\\imageDetection.ipynb Cell 5\u001b[0m in \u001b[0;36m<cell line: 1>\u001b[1;34m()\u001b[0m\n\u001b[1;32m----> <a href='vscode-notebook-cell:/c%3A/Users/aryaa/OneDrive/Desktop/Coding/BerryHealthy-HackThe6ix/imageDetection/imageDetection.ipynb#W5sZmlsZQ%3D%3D?line=0'>1</a>\u001b[0m x, y \u001b[39m=\u001b[39m \u001b[39mnext\u001b[39m(train_data)\n\u001b[0;32m      <a href='vscode-notebook-cell:/c%3A/Users/aryaa/OneDrive/Desktop/Coding/BerryHealthy-HackThe6ix/imageDetection/imageDetection.ipynb#W5sZmlsZQ%3D%3D?line=1'>2</a>\u001b[0m fig, ax \u001b[39m=\u001b[39m plt\u001b[39m.\u001b[39msubplots(nrows\u001b[39m=\u001b[39m\u001b[39m5\u001b[39m, ncols\u001b[39m=\u001b[39m\u001b[39m5\u001b[39m, figsize\u001b[39m=\u001b[39m(\u001b[39m15\u001b[39m,\u001b[39m15\u001b[39m))\n\u001b[0;32m      <a href='vscode-notebook-cell:/c%3A/Users/aryaa/OneDrive/Desktop/Coding/BerryHealthy-HackThe6ix/imageDetection/imageDetection.ipynb#W5sZmlsZQ%3D%3D?line=3'>4</a>\u001b[0m \u001b[39mfor\u001b[39;00m i \u001b[39min\u001b[39;00m \u001b[39mrange\u001b[39m(\u001b[39m5\u001b[39m):\n",
      "\u001b[1;31mNameError\u001b[0m: name 'train_data' is not defined"
     ]
    }
   ],
   "source": [
    "x, y = next(train_data)\n",
    "fig, ax = plt.subplots(nrows=5, ncols=5, figsize=(15,15))\n",
    "\n",
    "for i in range(5):\n",
    "    for j in range(5):\n",
    "        ax[i][j].imshow(x[i+j*5])\n",
    "        ax[i][j].set_title(labels[0][y[i+j*5]])\n",
    "        ax[i][j].set_xticks([])\n",
    "        ax[i][j].set_yticks([])\n",
    "        \n",
    "fig.show()"
   ]
  },
  {
   "cell_type": "code",
   "execution_count": 11,
   "metadata": {},
   "outputs": [
    {
     "name": "stdout",
     "output_type": "stream",
     "text": [
      "Downloading data from https://storage.googleapis.com/tensorflow/keras-applications/mobilenet_v3/weights_mobilenet_v3_large_224_1.0_float_no_top_v2.h5\n",
      "12683000/12683000 [==============================] - 3s 0us/step\n"
     ]
    }
   ],
   "source": [
    "pre_trained = keras.applications.MobileNetV3Large(input_shape=(IMAGE_SIZE,IMAGE_SIZE,3),include_top=False,weights='imagenet')   # pre-trained model\n",
    "pre_trained.trainable = True # trainable model"
   ]
  },
  {
   "cell_type": "code",
   "execution_count": 12,
   "metadata": {},
   "outputs": [
    {
     "name": "stdout",
     "output_type": "stream",
     "text": [
      "Model: \"sequential\"\n",
      "_________________________________________________________________\n",
      " Layer (type)                Output Shape              Param #   \n",
      "=================================================================\n",
      " MobilenetV3large (Functiona  (None, 7, 7, 960)        2996352   \n",
      " l)                                                              \n",
      "                                                                 \n",
      " global_average_pooling2d (G  (None, 960)              0         \n",
      " lobalAveragePooling2D)                                          \n",
      "                                                                 \n",
      " dense (Dense)               (None, 128)               123008    \n",
      "                                                                 \n",
      " dropout (Dropout)           (None, 128)               0         \n",
      "                                                                 \n",
      " dense_1 (Dense)             (None, 101)               13029     \n",
      "                                                                 \n",
      "=================================================================\n",
      "Total params: 3,132,389\n",
      "Trainable params: 3,107,989\n",
      "Non-trainable params: 24,400\n",
      "_________________________________________________________________\n"
     ]
    }
   ],
   "source": [
    "model = keras.Sequential([  # define the laters in the CNN\n",
    "    pre_trained,\n",
    "    layers.GlobalAveragePooling2D(),\n",
    "    layers.Dense(128, activation='relu'),\n",
    "    layers.Dropout(0.5),\n",
    "    layers.Dense(101, activation='softmax'),\n",
    "])\n",
    "\n",
    "model.compile(  # compiles the CNN network\n",
    "    optimizer='adam',\n",
    "    loss = 'sparse_categorical_crossentropy',\n",
    "    metrics=['accuracy']\n",
    ")\n",
    "\n",
    "model.summary()"
   ]
  },
  {
   "cell_type": "code",
   "execution_count": 15,
   "metadata": {},
   "outputs": [
    {
     "ename": "NameError",
     "evalue": "name 'train_data' is not defined",
     "output_type": "error",
     "traceback": [
      "\u001b[1;31m---------------------------------------------------------------------------\u001b[0m",
      "\u001b[1;31mNameError\u001b[0m                                 Traceback (most recent call last)",
      "\u001b[1;32mc:\\Users\\aryaa\\OneDrive\\Desktop\\Coding\\BerryHealthy-HackThe6ix\\imageDetection\\imageDetection.ipynb Cell 8\u001b[0m in \u001b[0;36m<cell line: 7>\u001b[1;34m()\u001b[0m\n\u001b[0;32m      <a href='vscode-notebook-cell:/c%3A/Users/aryaa/OneDrive/Desktop/Coding/BerryHealthy-HackThe6ix/imageDetection/imageDetection.ipynb#X11sZmlsZQ%3D%3D?line=4'>5</a>\u001b[0m chkp \u001b[39m=\u001b[39m keras\u001b[39m.\u001b[39mcallbacks\u001b[39m.\u001b[39mModelCheckpoint(\u001b[39m'\u001b[39m\u001b[39mmobilenet_v3_large_checkpoint.h5\u001b[39m\u001b[39m'\u001b[39m,monitor\u001b[39m=\u001b[39m\u001b[39m'\u001b[39m\u001b[39mval_accuracy\u001b[39m\u001b[39m'\u001b[39m,verbose\u001b[39m=\u001b[39m\u001b[39m1\u001b[39m,save_best_only\u001b[39m=\u001b[39m\u001b[39mTrue\u001b[39;00m) \u001b[39m# saves the model after every epoch\u001b[39;00m\n\u001b[0;32m      <a href='vscode-notebook-cell:/c%3A/Users/aryaa/OneDrive/Desktop/Coding/BerryHealthy-HackThe6ix/imageDetection/imageDetection.ipynb#X11sZmlsZQ%3D%3D?line=6'>7</a>\u001b[0m \u001b[39mwith\u001b[39;00m tf\u001b[39m.\u001b[39mdevice(\u001b[39m'\u001b[39m\u001b[39m/GPU:0\u001b[39m\u001b[39m'\u001b[39m):   \u001b[39m# use GPU for training (I LOVE NVIDIA CUDA)\u001b[39;00m\n\u001b[0;32m      <a href='vscode-notebook-cell:/c%3A/Users/aryaa/OneDrive/Desktop/Coding/BerryHealthy-HackThe6ix/imageDetection/imageDetection.ipynb#X11sZmlsZQ%3D%3D?line=7'>8</a>\u001b[0m     hist \u001b[39m=\u001b[39m model\u001b[39m.\u001b[39mfit(   \u001b[39m# fits the model to the data for each epoch using the GPU\u001b[39;00m\n\u001b[1;32m----> <a href='vscode-notebook-cell:/c%3A/Users/aryaa/OneDrive/Desktop/Coding/BerryHealthy-HackThe6ix/imageDetection/imageDetection.ipynb#X11sZmlsZQ%3D%3D?line=8'>9</a>\u001b[0m         train_data,\n\u001b[0;32m     <a href='vscode-notebook-cell:/c%3A/Users/aryaa/OneDrive/Desktop/Coding/BerryHealthy-HackThe6ix/imageDetection/imageDetection.ipynb#X11sZmlsZQ%3D%3D?line=9'>10</a>\u001b[0m         validation_data \u001b[39m=\u001b[39m valid_data,\n\u001b[0;32m     <a href='vscode-notebook-cell:/c%3A/Users/aryaa/OneDrive/Desktop/Coding/BerryHealthy-HackThe6ix/imageDetection/imageDetection.ipynb#X11sZmlsZQ%3D%3D?line=10'>11</a>\u001b[0m         epochs \u001b[39m=\u001b[39m EPOCHS,\n\u001b[0;32m     <a href='vscode-notebook-cell:/c%3A/Users/aryaa/OneDrive/Desktop/Coding/BerryHealthy-HackThe6ix/imageDetection/imageDetection.ipynb#X11sZmlsZQ%3D%3D?line=11'>12</a>\u001b[0m         callbacks\u001b[39m=\u001b[39m[early_stop, reduce_lr, chkp],\n\u001b[0;32m     <a href='vscode-notebook-cell:/c%3A/Users/aryaa/OneDrive/Desktop/Coding/BerryHealthy-HackThe6ix/imageDetection/imageDetection.ipynb#X11sZmlsZQ%3D%3D?line=12'>13</a>\u001b[0m     )\n\u001b[0;32m     <a href='vscode-notebook-cell:/c%3A/Users/aryaa/OneDrive/Desktop/Coding/BerryHealthy-HackThe6ix/imageDetection/imageDetection.ipynb#X11sZmlsZQ%3D%3D?line=14'>15</a>\u001b[0m ct \u001b[39m=\u001b[39m now\u001b[39m.\u001b[39mstrftime(\u001b[39m\"\u001b[39m\u001b[39m%\u001b[39m\u001b[39mY\u001b[39m\u001b[39m%\u001b[39m\u001b[39mm\u001b[39m\u001b[39m%d\u001b[39;00m\u001b[39m-\u001b[39m\u001b[39m%\u001b[39m\u001b[39mH\u001b[39m\u001b[39m%\u001b[39m\u001b[39mM\u001b[39m\u001b[39m%\u001b[39m\u001b[39mS\u001b[39m\u001b[39m\"\u001b[39m) \u001b[39m# current time\u001b[39;00m\n\u001b[0;32m     <a href='vscode-notebook-cell:/c%3A/Users/aryaa/OneDrive/Desktop/Coding/BerryHealthy-HackThe6ix/imageDetection/imageDetection.ipynb#X11sZmlsZQ%3D%3D?line=15'>16</a>\u001b[0m model\u001b[39m.\u001b[39msave(\u001b[39m'\u001b[39m\u001b[39mModel\u001b[39m\u001b[39m{ct}\u001b[39;00m\u001b[39m.h5\u001b[39m\u001b[39m'\u001b[39m)\n",
      "\u001b[1;31mNameError\u001b[0m: name 'train_data' is not defined"
     ]
    }
   ],
   "source": [
    "EPOCHS=20  # training epochs\n",
    "\n",
    "reduce_lr = keras.callbacks.ReduceLROnPlateau(monitor = 'val_accuracy',patience = 1,verbose = 1) # reduce learning rate if the model does not improve\n",
    "early_stop = keras.callbacks.EarlyStopping(monitor = 'val_accuracy',patience = 5,verbose = 1,restore_best_weights = True) # early stopping\n",
    "chkp = keras.callbacks.ModelCheckpoint('mobilenet_v3_large_checkpoint.h5',monitor='val_accuracy',verbose=1,save_best_only=True) # saves the model after every epoch\n",
    "\n",
    "with tf.device('/GPU:0'):   # use GPU for training (I LOVE NVIDIA CUDA)\n",
    "    hist = model.fit(   # fits the model to the data for each epoch using the GPU\n",
    "        train_data,\n",
    "        validation_data = valid_data,\n",
    "        epochs = EPOCHS,\n",
    "        callbacks=[early_stop, reduce_lr, chkp],\n",
    "    )\n",
    "    \n",
    "model.save('ModelCNN.h5')   # saves the model after training to an .h5 file"
   ]
  },
  {
   "cell_type": "code",
   "execution_count": null,
   "metadata": {},
   "outputs": [],
   "source": [
    "# Accuracy around 81.5% after 20 epochs"
   ]
  }
 ],
 "metadata": {
  "kernelspec": {
   "display_name": "Python 3.10.6 64-bit",
   "language": "python",
   "name": "python3"
  },
  "language_info": {
   "codemirror_mode": {
    "name": "ipython",
    "version": 3
   },
   "file_extension": ".py",
   "mimetype": "text/x-python",
   "name": "python",
   "nbconvert_exporter": "python",
   "pygments_lexer": "ipython3",
   "version": "3.10.6"
  },
  "orig_nbformat": 4,
  "vscode": {
   "interpreter": {
    "hash": "2c9af04803014a729382f08c33dacfbe261f336674bc82d78b8ba351db0bc395"
   }
  }
 },
 "nbformat": 4,
 "nbformat_minor": 2
}
